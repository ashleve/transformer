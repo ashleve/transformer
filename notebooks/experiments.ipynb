{
 "cells": [
  {
   "cell_type": "code",
   "execution_count": 1,
   "id": "3fa61432-ae42-42aa-a527-f8bbe8f13282",
   "metadata": {},
   "outputs": [],
   "source": [
    "from transformers import MarianMTModel, MarianTokenizer\n",
    "import torch"
   ]
  },
  {
   "cell_type": "code",
   "execution_count": 2,
   "id": "2e6e2c7f-8991-4c0b-94f5-2d46852cb7a8",
   "metadata": {},
   "outputs": [
    {
     "data": {
      "application/vnd.jupyter.widget-view+json": {
       "model_id": "d7acd272023044b8bc2ee18612b288d7",
       "version_major": 2,
       "version_minor": 0
      },
      "text/plain": [
       "Downloading:   0%|          | 0.00/768k [00:00<?, ?B/s]"
      ]
     },
     "metadata": {},
     "output_type": "display_data"
    },
    {
     "data": {
      "application/vnd.jupyter.widget-view+json": {
       "model_id": "086842a682c04ca49185ac044c31c3cd",
       "version_major": 2,
       "version_minor": 0
      },
      "text/plain": [
       "Downloading:   0%|          | 0.00/797k [00:00<?, ?B/s]"
      ]
     },
     "metadata": {},
     "output_type": "display_data"
    },
    {
     "data": {
      "application/vnd.jupyter.widget-view+json": {
       "model_id": "8a11ddaae3ce4c6ea6cd13959fb15417",
       "version_major": 2,
       "version_minor": 0
      },
      "text/plain": [
       "Downloading:   0%|          | 0.00/1.27M [00:00<?, ?B/s]"
      ]
     },
     "metadata": {},
     "output_type": "display_data"
    },
    {
     "data": {
      "application/vnd.jupyter.widget-view+json": {
       "model_id": "dfacd81dafaf478bb116603387930062",
       "version_major": 2,
       "version_minor": 0
      },
      "text/plain": [
       "Downloading:   0%|          | 0.00/42.0 [00:00<?, ?B/s]"
      ]
     },
     "metadata": {},
     "output_type": "display_data"
    },
    {
     "data": {
      "application/vnd.jupyter.widget-view+json": {
       "model_id": "5c673cd2774e4caeb72c13a390e1df4b",
       "version_major": 2,
       "version_minor": 0
      },
      "text/plain": [
       "Downloading:   0%|          | 0.00/1.33k [00:00<?, ?B/s]"
      ]
     },
     "metadata": {},
     "output_type": "display_data"
    },
    {
     "data": {
      "application/vnd.jupyter.widget-view+json": {
       "model_id": "3b46ebeaccf547bcaaf2d6d7778e5ef3",
       "version_major": 2,
       "version_minor": 0
      },
      "text/plain": [
       "Downloading:   0%|          | 0.00/298M [00:00<?, ?B/s]"
      ]
     },
     "metadata": {},
     "output_type": "display_data"
    }
   ],
   "source": [
    "tokenizer = MarianTokenizer.from_pretrained(\"Helsinki-NLP/opus-mt-en-de\")\n",
    "model = MarianMTModel.from_pretrained(\"Helsinki-NLP/opus-mt-en-de\")"
   ]
  },
  {
   "cell_type": "code",
   "execution_count": 3,
   "id": "1613231b-7363-4ef7-8216-83f490211c16",
   "metadata": {
    "tags": []
   },
   "outputs": [],
   "source": [
    "embeddings = model.get_input_embeddings()\n",
    "\n",
    "# create ids of encoded input vectors\n",
    "input_ids = tokenizer(\"I want to buy a car\", return_tensors=\"pt\").input_ids\n",
    "\n",
    "# pass input_ids to encoder\n",
    "encoder_hidden_states = model.base_model.encoder(input_ids, return_dict=True).last_hidden_state"
   ]
  },
  {
   "cell_type": "code",
   "execution_count": 4,
   "id": "1aaee91b-e224-44fe-b39b-6283516cdb1f",
   "metadata": {
    "tags": []
   },
   "outputs": [
    {
     "name": "stdout",
     "output_type": "stream",
     "text": [
      "Length of input embeddings 7. Length of encoder_hidden_states 7\n",
      "Is encoding for `I` equal to its perturbed version?:  False\n"
     ]
    }
   ],
   "source": [
    "# change the input slightly and pass to encoder\n",
    "input_ids_perturbed = tokenizer(\"I want to buy a house\", return_tensors=\"pt\").input_ids\n",
    "encoder_hidden_states_perturbed = model.base_model.encoder(input_ids_perturbed, return_dict=True).last_hidden_state\n",
    "\n",
    "# compare shape and encoding of first vector\n",
    "print(f\"Length of input embeddings {embeddings(input_ids).shape[1]}. Length of encoder_hidden_states {encoder_hidden_states.shape[1]}\")\n",
    "\n",
    "# compare values of word embedding of \"I\" for input_ids and perturbed input_ids\n",
    "print(\"Is encoding for `I` equal to its perturbed version?: \", torch.allclose(encoder_hidden_states[0, 0], encoder_hidden_states_perturbed[0, 0], atol=1e-3))"
   ]
  },
  {
   "cell_type": "code",
   "execution_count": 9,
   "id": "416f845a-b93c-4fd1-9ade-7616ddc90f6c",
   "metadata": {},
   "outputs": [
    {
     "data": {
      "text/plain": [
       "tensor([[  38,   38,  392,   12, 2387,   14,  869,  869,    0]])"
      ]
     },
     "execution_count": 9,
     "metadata": {},
     "output_type": "execute_result"
    }
   ],
   "source": [
    "tokenizer(\"I want to buy a house house\", return_tensors=\"pt\").input_ids"
   ]
  },
  {
   "cell_type": "code",
   "execution_count": 12,
   "id": "156f80e4-5077-4c08-b87f-134b5e99128a",
   "metadata": {},
   "outputs": [],
   "source": [
    "emb = model.base_model.encoder(input_ids, return_dict=True)"
   ]
  },
  {
   "cell_type": "code",
   "execution_count": 14,
   "id": "b0d2909b-c09e-4dc1-a50b-979ff1c48051",
   "metadata": {},
   "outputs": [
    {
     "data": {
      "text/plain": [
       "tensor([[[ 0.1171, -0.0477,  0.0791,  ..., -0.5256, -0.3510,  0.0203],\n",
       "         [-0.1621,  0.1312, -0.1019,  ..., -0.1522, -0.0629,  0.0548],\n",
       "         [-0.0190,  0.3175, -0.0063,  ...,  0.0165, -0.3745,  0.1352],\n",
       "         ...,\n",
       "         [ 0.2279,  0.5423,  0.1039,  ..., -0.1859, -0.2347,  0.2879],\n",
       "         [-0.0718,  0.4757,  0.0434,  ..., -0.1713, -0.2366, -0.2629],\n",
       "         [-0.0405,  0.1421,  0.0025,  ..., -0.1198, -0.0124, -0.0020]]],\n",
       "       grad_fn=<NativeLayerNormBackward>)"
      ]
     },
     "execution_count": 14,
     "metadata": {},
     "output_type": "execute_result"
    }
   ],
   "source": [
    "emb.last_hidden_state"
   ]
  },
  {
   "cell_type": "code",
   "execution_count": 16,
   "id": "0e142495-10ff-4830-abff-7982f0c850bc",
   "metadata": {},
   "outputs": [
    {
     "data": {
      "text/plain": [
       "torch.Size([1, 7, 512])"
      ]
     },
     "execution_count": 16,
     "metadata": {},
     "output_type": "execute_result"
    }
   ],
   "source": [
    "emb.last_hidden_state.size()"
   ]
  },
  {
   "cell_type": "code",
   "execution_count": null,
   "id": "e19bb21d-d220-4564-980b-1abe7cb555e4",
   "metadata": {},
   "outputs": [],
   "source": []
  }
 ],
 "metadata": {
  "kernelspec": {
   "display_name": "Python 3",
   "language": "python",
   "name": "python3"
  },
  "language_info": {
   "codemirror_mode": {
    "name": "ipython",
    "version": 3
   },
   "file_extension": ".py",
   "mimetype": "text/x-python",
   "name": "python",
   "nbconvert_exporter": "python",
   "pygments_lexer": "ipython3",
   "version": "3.8.8"
  }
 },
 "nbformat": 4,
 "nbformat_minor": 5
}
